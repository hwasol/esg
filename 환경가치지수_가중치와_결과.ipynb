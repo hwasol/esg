{
  "nbformat": 4,
  "nbformat_minor": 0,
  "metadata": {
    "colab": {
      "provenance": [],
      "authorship_tag": "ABX9TyMSYJ/Axfvg8EzuvqwAYSoh",
      "include_colab_link": true
    },
    "kernelspec": {
      "name": "python3",
      "display_name": "Python 3"
    },
    "language_info": {
      "name": "python"
    }
  },
  "cells": [
    {
      "cell_type": "markdown",
      "metadata": {
        "id": "view-in-github",
        "colab_type": "text"
      },
      "source": [
        "<a href=\"https://colab.research.google.com/github/hwasol/esg/blob/main/%ED%99%98%EA%B2%BD%EA%B0%80%EC%B9%98%EC%A7%80%EC%88%98_%EA%B0%80%EC%A4%91%EC%B9%98%EC%99%80_%EA%B2%B0%EA%B3%BC.ipynb\" target=\"_parent\"><img src=\"https://colab.research.google.com/assets/colab-badge.svg\" alt=\"Open In Colab\"/></a>"
      ]
    },
    {
      "cell_type": "code",
      "source": [
        "from google.colab import files\n",
        "uploaded = files.upload()\n"
      ],
      "metadata": {
        "colab": {
          "base_uri": "https://localhost:8080/",
          "height": 290
        },
        "id": "VkHcXp6MV9bO",
        "outputId": "bdaf19fe-4548-4e81-ba89-072d58b19086"
      },
      "execution_count": 4,
      "outputs": [
        {
          "output_type": "display_data",
          "data": {
            "text/plain": [
              "<IPython.core.display.HTML object>"
            ],
            "text/html": [
              "\n",
              "     <input type=\"file\" id=\"files-4036657f-fae2-477b-a076-27eaacd48ee7\" name=\"files[]\" multiple disabled\n",
              "        style=\"border:none\" />\n",
              "     <output id=\"result-4036657f-fae2-477b-a076-27eaacd48ee7\">\n",
              "      Upload widget is only available when the cell has been executed in the\n",
              "      current browser session. Please rerun this cell to enable.\n",
              "      </output>\n",
              "      <script>// Copyright 2017 Google LLC\n",
              "//\n",
              "// Licensed under the Apache License, Version 2.0 (the \"License\");\n",
              "// you may not use this file except in compliance with the License.\n",
              "// You may obtain a copy of the License at\n",
              "//\n",
              "//      http://www.apache.org/licenses/LICENSE-2.0\n",
              "//\n",
              "// Unless required by applicable law or agreed to in writing, software\n",
              "// distributed under the License is distributed on an \"AS IS\" BASIS,\n",
              "// WITHOUT WARRANTIES OR CONDITIONS OF ANY KIND, either express or implied.\n",
              "// See the License for the specific language governing permissions and\n",
              "// limitations under the License.\n",
              "\n",
              "/**\n",
              " * @fileoverview Helpers for google.colab Python module.\n",
              " */\n",
              "(function(scope) {\n",
              "function span(text, styleAttributes = {}) {\n",
              "  const element = document.createElement('span');\n",
              "  element.textContent = text;\n",
              "  for (const key of Object.keys(styleAttributes)) {\n",
              "    element.style[key] = styleAttributes[key];\n",
              "  }\n",
              "  return element;\n",
              "}\n",
              "\n",
              "// Max number of bytes which will be uploaded at a time.\n",
              "const MAX_PAYLOAD_SIZE = 100 * 1024;\n",
              "\n",
              "function _uploadFiles(inputId, outputId) {\n",
              "  const steps = uploadFilesStep(inputId, outputId);\n",
              "  const outputElement = document.getElementById(outputId);\n",
              "  // Cache steps on the outputElement to make it available for the next call\n",
              "  // to uploadFilesContinue from Python.\n",
              "  outputElement.steps = steps;\n",
              "\n",
              "  return _uploadFilesContinue(outputId);\n",
              "}\n",
              "\n",
              "// This is roughly an async generator (not supported in the browser yet),\n",
              "// where there are multiple asynchronous steps and the Python side is going\n",
              "// to poll for completion of each step.\n",
              "// This uses a Promise to block the python side on completion of each step,\n",
              "// then passes the result of the previous step as the input to the next step.\n",
              "function _uploadFilesContinue(outputId) {\n",
              "  const outputElement = document.getElementById(outputId);\n",
              "  const steps = outputElement.steps;\n",
              "\n",
              "  const next = steps.next(outputElement.lastPromiseValue);\n",
              "  return Promise.resolve(next.value.promise).then((value) => {\n",
              "    // Cache the last promise value to make it available to the next\n",
              "    // step of the generator.\n",
              "    outputElement.lastPromiseValue = value;\n",
              "    return next.value.response;\n",
              "  });\n",
              "}\n",
              "\n",
              "/**\n",
              " * Generator function which is called between each async step of the upload\n",
              " * process.\n",
              " * @param {string} inputId Element ID of the input file picker element.\n",
              " * @param {string} outputId Element ID of the output display.\n",
              " * @return {!Iterable<!Object>} Iterable of next steps.\n",
              " */\n",
              "function* uploadFilesStep(inputId, outputId) {\n",
              "  const inputElement = document.getElementById(inputId);\n",
              "  inputElement.disabled = false;\n",
              "\n",
              "  const outputElement = document.getElementById(outputId);\n",
              "  outputElement.innerHTML = '';\n",
              "\n",
              "  const pickedPromise = new Promise((resolve) => {\n",
              "    inputElement.addEventListener('change', (e) => {\n",
              "      resolve(e.target.files);\n",
              "    });\n",
              "  });\n",
              "\n",
              "  const cancel = document.createElement('button');\n",
              "  inputElement.parentElement.appendChild(cancel);\n",
              "  cancel.textContent = 'Cancel upload';\n",
              "  const cancelPromise = new Promise((resolve) => {\n",
              "    cancel.onclick = () => {\n",
              "      resolve(null);\n",
              "    };\n",
              "  });\n",
              "\n",
              "  // Wait for the user to pick the files.\n",
              "  const files = yield {\n",
              "    promise: Promise.race([pickedPromise, cancelPromise]),\n",
              "    response: {\n",
              "      action: 'starting',\n",
              "    }\n",
              "  };\n",
              "\n",
              "  cancel.remove();\n",
              "\n",
              "  // Disable the input element since further picks are not allowed.\n",
              "  inputElement.disabled = true;\n",
              "\n",
              "  if (!files) {\n",
              "    return {\n",
              "      response: {\n",
              "        action: 'complete',\n",
              "      }\n",
              "    };\n",
              "  }\n",
              "\n",
              "  for (const file of files) {\n",
              "    const li = document.createElement('li');\n",
              "    li.append(span(file.name, {fontWeight: 'bold'}));\n",
              "    li.append(span(\n",
              "        `(${file.type || 'n/a'}) - ${file.size} bytes, ` +\n",
              "        `last modified: ${\n",
              "            file.lastModifiedDate ? file.lastModifiedDate.toLocaleDateString() :\n",
              "                                    'n/a'} - `));\n",
              "    const percent = span('0% done');\n",
              "    li.appendChild(percent);\n",
              "\n",
              "    outputElement.appendChild(li);\n",
              "\n",
              "    const fileDataPromise = new Promise((resolve) => {\n",
              "      const reader = new FileReader();\n",
              "      reader.onload = (e) => {\n",
              "        resolve(e.target.result);\n",
              "      };\n",
              "      reader.readAsArrayBuffer(file);\n",
              "    });\n",
              "    // Wait for the data to be ready.\n",
              "    let fileData = yield {\n",
              "      promise: fileDataPromise,\n",
              "      response: {\n",
              "        action: 'continue',\n",
              "      }\n",
              "    };\n",
              "\n",
              "    // Use a chunked sending to avoid message size limits. See b/62115660.\n",
              "    let position = 0;\n",
              "    do {\n",
              "      const length = Math.min(fileData.byteLength - position, MAX_PAYLOAD_SIZE);\n",
              "      const chunk = new Uint8Array(fileData, position, length);\n",
              "      position += length;\n",
              "\n",
              "      const base64 = btoa(String.fromCharCode.apply(null, chunk));\n",
              "      yield {\n",
              "        response: {\n",
              "          action: 'append',\n",
              "          file: file.name,\n",
              "          data: base64,\n",
              "        },\n",
              "      };\n",
              "\n",
              "      let percentDone = fileData.byteLength === 0 ?\n",
              "          100 :\n",
              "          Math.round((position / fileData.byteLength) * 100);\n",
              "      percent.textContent = `${percentDone}% done`;\n",
              "\n",
              "    } while (position < fileData.byteLength);\n",
              "  }\n",
              "\n",
              "  // All done.\n",
              "  yield {\n",
              "    response: {\n",
              "      action: 'complete',\n",
              "    }\n",
              "  };\n",
              "}\n",
              "\n",
              "scope.google = scope.google || {};\n",
              "scope.google.colab = scope.google.colab || {};\n",
              "scope.google.colab._files = {\n",
              "  _uploadFiles,\n",
              "  _uploadFilesContinue,\n",
              "};\n",
              "})(self);\n",
              "</script> "
            ]
          },
          "metadata": {}
        },
        {
          "output_type": "stream",
          "name": "stdout",
          "text": [
            "Saving ND-GAIN 적응 지수 2011.csv to ND-GAIN 적응 지수 2011 (1).csv\n",
            "Saving 아프리카 재생에너지 비율 2011.csv to 아프리카 재생에너지 비율 2011 (1).csv\n",
            "Saving 아프리카_CO2_배출량_2010^F2022 (1).csv to 아프리카_CO2_배출량_2010^F2022 (1) (1).csv\n",
            "Saving 아프리카_CO2_배출량_변화율_2011.csv to 아프리카_CO2_배출량_변화율_2011 (1).csv\n",
            "Saving 아프리카24개국_보호구역비율_2011.csv to 아프리카24개국_보호구역비율_2011 (1).csv\n",
            "Saving 아프리카24개국_산림면적_2011.csv to 아프리카24개국_산림면적_2011 (1).csv\n",
            "Saving 아프리카24개국_환경규제강도_2011.csv to 아프리카24개국_환경규제강도_2011 (1).csv\n"
          ]
        }
      ]
    },
    {
      "cell_type": "code",
      "source": [
        "import pandas as pd\n",
        "\n",
        "print(uploaded.keys())\n"
      ],
      "metadata": {
        "colab": {
          "base_uri": "https://localhost:8080/"
        },
        "id": "CTaQuEo1WE_2",
        "outputId": "c9260809-9ff2-4b38-c72c-98468a14c3e1"
      },
      "execution_count": 5,
      "outputs": [
        {
          "output_type": "stream",
          "name": "stdout",
          "text": [
            "dict_keys(['ND-GAIN 적응 지수 2011 (1).csv', '아프리카 재생에너지 비율 2011 (1).csv', '아프리카_CO2_배출량_2010^F2022 (1) (1).csv', '아프리카_CO2_배출량_변화율_2011 (1).csv', '아프리카24개국_보호구역비율_2011 (1).csv', '아프리카24개국_산림면적_2011 (1).csv', '아프리카24개국_환경규제강도_2011 (1).csv'])\n"
          ]
        }
      ]
    },
    {
      "cell_type": "code",
      "source": [
        "co2 = pd.read_csv('아프리카_CO2_배출량_2010^F2022 (1).csv')\n",
        "co2_rate = pd.read_csv('아프리카_CO2_배출량_변화율_2011.csv')\n",
        "protected = pd.read_csv('아프리카24개국_보호구역비율_2011.csv')\n",
        "forest = pd.read_csv('아프리카24개국_산림면적_2011.csv')\n",
        "regulation = pd.read_csv('아프리카24개국_환경규제강도_2011.csv')\n",
        "gain = pd.read_csv('ND-GAIN 적응 지수 2011.csv')\n",
        "renewable = pd.read_csv('아프리카 재생에너지 비율 2011.csv')\n"
      ],
      "metadata": {
        "id": "DM2xjcWdWJ8S"
      },
      "execution_count": 6,
      "outputs": []
    },
    {
      "cell_type": "code",
      "source": [
        "co2 = co2[['국가', '2011']]\n",
        "co2_rate = co2_rate[['국가', '2011']]\n",
        "protected = protected[['국가', '2011']]\n",
        "forest = forest[['국가', '2011']]\n",
        "regulation = regulation[['국가', '2011']]\n",
        "gain = gain[['국가', '2011']]\n",
        "renewable = renewable[['국가', '2011']]\n",
        "\n",
        "co2.columns = ['국가', 'CO2배출량']\n",
        "co2_rate.columns = ['국가', 'CO2증감률']\n",
        "protected.columns = ['국가', '보호구역비율']\n",
        "forest.columns = ['국가', '산림면적']\n",
        "regulation.columns = ['국가', '환경규제강도']\n",
        "gain.columns = ['국가', 'NDGAIN지수']\n",
        "renewable.columns = ['국가', '재생에너지비율']\n"
      ],
      "metadata": {
        "id": "DBItTnJjWVfU"
      },
      "execution_count": 8,
      "outputs": []
    },
    {
      "cell_type": "code",
      "source": [
        "from functools import reduce\n",
        "\n",
        "dfs = [co2, co2_rate, protected, forest, regulation, gain, renewable]\n",
        "df_merged = reduce(lambda left, right: pd.merge(left, right, on='국가', how='inner'), dfs)\n",
        "df_merged = df_merged.dropna()  # 결측치 행 삭제\n"
      ],
      "metadata": {
        "id": "PfDwYfkuWsdQ"
      },
      "execution_count": 9,
      "outputs": []
    },
    {
      "cell_type": "code",
      "source": [
        "from sklearn.preprocessing import StandardScaler\n",
        "\n",
        "X = df_merged.drop(columns=['국가'])  # 국가명 제외\n",
        "scaler = StandardScaler()\n",
        "X_scaled = scaler.fit_transform(X)\n"
      ],
      "metadata": {
        "id": "3efSZ80sW0L3"
      },
      "execution_count": 10,
      "outputs": []
    },
    {
      "cell_type": "code",
      "source": [
        "from sklearn.decomposition import PCA\n",
        "import numpy as np\n",
        "\n",
        "pca = PCA()\n",
        "pca.fit(X_scaled)\n",
        "\n",
        "# 첫 번째 주성분(PC1) 기준 가중치\n",
        "weights_pc1 = np.abs(pca.components_[0])\n",
        "weights_pc1 = weights_pc1 / np.sum(weights_pc1)\n",
        "weights_df = pd.DataFrame({'지표': X.columns, '가중치(PC1)': weights_pc1})\n",
        "\n",
        "# 설명력(variance ratio) 반영한 전체 가중치\n",
        "explained_variance = pca.explained_variance_ratio_\n",
        "loadings = np.abs(pca.components_)\n",
        "weighted_loadings = loadings.T @ explained_variance\n",
        "weighted_loadings = weighted_loadings / np.sum(weighted_loadings)\n",
        "weights_df2 = pd.DataFrame({'지표': X.columns, '가중치(PCA)': weighted_loadings})\n",
        "\n",
        "print(weights_df2)\n"
      ],
      "metadata": {
        "colab": {
          "base_uri": "https://localhost:8080/"
        },
        "id": "sW5W3KXnW2z0",
        "outputId": "6cdd50c2-f156-4195-8760-a131c457c595"
      },
      "execution_count": 11,
      "outputs": [
        {
          "output_type": "stream",
          "name": "stdout",
          "text": [
            "         지표  가중치(PCA)\n",
            "0    CO2배출량  0.134105\n",
            "1    CO2증감률  0.160921\n",
            "2    보호구역비율  0.138432\n",
            "3      산림면적  0.162345\n",
            "4    환경규제강도  0.136352\n",
            "5  NDGAIN지수  0.125571\n",
            "6   재생에너지비율  0.142274\n"
          ]
        }
      ]
    },
    {
      "cell_type": "code",
      "source": [
        "weights_df2.to_csv('환경가치지수_세부지표별_PCA가중치.csv', index=False)\n",
        "\n",
        "from google.colab import files\n",
        "files.download('환경가치지수_세부지표별_PCA가중치.csv')\n"
      ],
      "metadata": {
        "colab": {
          "base_uri": "https://localhost:8080/",
          "height": 17
        },
        "id": "qtJGT1f5XB3-",
        "outputId": "06e7621b-8c09-4337-dd02-87321bd55d8e"
      },
      "execution_count": 18,
      "outputs": [
        {
          "output_type": "display_data",
          "data": {
            "text/plain": [
              "<IPython.core.display.Javascript object>"
            ],
            "application/javascript": [
              "\n",
              "    async function download(id, filename, size) {\n",
              "      if (!google.colab.kernel.accessAllowed) {\n",
              "        return;\n",
              "      }\n",
              "      const div = document.createElement('div');\n",
              "      const label = document.createElement('label');\n",
              "      label.textContent = `Downloading \"${filename}\": `;\n",
              "      div.appendChild(label);\n",
              "      const progress = document.createElement('progress');\n",
              "      progress.max = size;\n",
              "      div.appendChild(progress);\n",
              "      document.body.appendChild(div);\n",
              "\n",
              "      const buffers = [];\n",
              "      let downloaded = 0;\n",
              "\n",
              "      const channel = await google.colab.kernel.comms.open(id);\n",
              "      // Send a message to notify the kernel that we're ready.\n",
              "      channel.send({})\n",
              "\n",
              "      for await (const message of channel.messages) {\n",
              "        // Send a message to notify the kernel that we're ready.\n",
              "        channel.send({})\n",
              "        if (message.buffers) {\n",
              "          for (const buffer of message.buffers) {\n",
              "            buffers.push(buffer);\n",
              "            downloaded += buffer.byteLength;\n",
              "            progress.value = downloaded;\n",
              "          }\n",
              "        }\n",
              "      }\n",
              "      const blob = new Blob(buffers, {type: 'application/binary'});\n",
              "      const a = document.createElement('a');\n",
              "      a.href = window.URL.createObjectURL(blob);\n",
              "      a.download = filename;\n",
              "      div.appendChild(a);\n",
              "      a.click();\n",
              "      div.remove();\n",
              "    }\n",
              "  "
            ]
          },
          "metadata": {}
        },
        {
          "output_type": "display_data",
          "data": {
            "text/plain": [
              "<IPython.core.display.Javascript object>"
            ],
            "application/javascript": [
              "download(\"download_7f8195f3-8183-43a6-a0ce-6145874b4301\", \"\\ud658\\uacbd\\uac00\\uce58\\uc9c0\\uc218_\\uc138\\ubd80\\uc9c0\\ud45c\\ubcc4_PCA\\uac00\\uc911\\uce58.csv\", 273)"
            ]
          },
          "metadata": {}
        }
      ]
    },
    {
      "cell_type": "code",
      "source": [
        "# weights_df2가 '지표' 컬럼과 '가중치(PCA)' 컬럼을 갖고 있다고 가정\n",
        "# 이미 앞에서 만든 경우 이 부분은 생략 가능\n"
      ],
      "metadata": {
        "id": "TZeL-IvTXNbZ"
      },
      "execution_count": 13,
      "outputs": []
    },
    {
      "cell_type": "code",
      "source": [
        "# X_scaled : 국가명 제외, 세부지표 표준화 값\n",
        "# df_merged['국가'] : 국가명\n"
      ],
      "metadata": {
        "id": "MIT-zMdAXPB-"
      },
      "execution_count": 14,
      "outputs": []
    },
    {
      "cell_type": "code",
      "source": [
        "import numpy as np\n",
        "import pandas as pd\n",
        "\n",
        "# 가중치 배열\n",
        "w = weights_df2['가중치(PCA)'].values  # (지표 수, )\n",
        "\n",
        "# 국가별 표준화 지표 데이터 (2차원 배열, 행:국가, 열:지표)\n",
        "env_score = X_scaled @ w  # 행렬곱 (각 국가별 환경지수)\n",
        "\n",
        "# 데이터프레임으로 정리\n",
        "env_index = pd.DataFrame({\n",
        "    '국가': df_merged['국가'],\n",
        "    '환경가치지수': env_score\n",
        "})\n",
        "\n",
        "print(env_index)\n"
      ],
      "metadata": {
        "colab": {
          "base_uri": "https://localhost:8080/"
        },
        "id": "MnAQv5h9XP6E",
        "outputId": "91e428f0-e499-4339-c2b6-4bda99bc9c54"
      },
      "execution_count": 15,
      "outputs": [
        {
          "output_type": "stream",
          "name": "stdout",
          "text": [
            "              국가    환경가치지수\n",
            "0          Egypt  0.008595\n",
            "1        Morocco  0.253971\n",
            "2        Algeria -0.127177\n",
            "3        Tunisia  0.088857\n",
            "4        Nigeria  0.304636\n",
            "5          Ghana  0.481293\n",
            "6        Senegal -0.153028\n",
            "7    Ivory Coast -0.409360\n",
            "8           Mali  0.208426\n",
            "9   Burkina Faso  0.152437\n",
            "10         Benin -0.213722\n",
            "11         Kenya -0.318673\n",
            "12      Tanzania -0.109182\n",
            "13        Uganda  0.188014\n",
            "14        Rwanda  0.057251\n",
            "15    Madagascar  0.205183\n",
            "16      Cameroon  0.101060\n",
            "17         Gabon -0.595106\n",
            "18         Congo -0.063390\n",
            "19  South Africa  0.337971\n",
            "20        Angola -0.088503\n",
            "21        Zambia  0.154604\n",
            "22      Botswana  0.281309\n",
            "23    Mozambique -0.745468\n"
          ]
        }
      ]
    },
    {
      "cell_type": "code",
      "source": [
        "env_index.to_csv('아프리카24개국_환경가치지수_PCA.csv', index=False, encoding='utf-8-sig')\n"
      ],
      "metadata": {
        "id": "DvjSb3pNXuqr"
      },
      "execution_count": 16,
      "outputs": []
    },
    {
      "cell_type": "code",
      "source": [
        "from google.colab import files\n",
        "files.download('아프리카24개국_환경가치지수_PCA.csv')\n"
      ],
      "metadata": {
        "colab": {
          "base_uri": "https://localhost:8080/",
          "height": 17
        },
        "id": "3XcKa3huXwim",
        "outputId": "6380eb93-443a-43d2-b55d-71a09dd18f7e"
      },
      "execution_count": 17,
      "outputs": [
        {
          "output_type": "display_data",
          "data": {
            "text/plain": [
              "<IPython.core.display.Javascript object>"
            ],
            "application/javascript": [
              "\n",
              "    async function download(id, filename, size) {\n",
              "      if (!google.colab.kernel.accessAllowed) {\n",
              "        return;\n",
              "      }\n",
              "      const div = document.createElement('div');\n",
              "      const label = document.createElement('label');\n",
              "      label.textContent = `Downloading \"${filename}\": `;\n",
              "      div.appendChild(label);\n",
              "      const progress = document.createElement('progress');\n",
              "      progress.max = size;\n",
              "      div.appendChild(progress);\n",
              "      document.body.appendChild(div);\n",
              "\n",
              "      const buffers = [];\n",
              "      let downloaded = 0;\n",
              "\n",
              "      const channel = await google.colab.kernel.comms.open(id);\n",
              "      // Send a message to notify the kernel that we're ready.\n",
              "      channel.send({})\n",
              "\n",
              "      for await (const message of channel.messages) {\n",
              "        // Send a message to notify the kernel that we're ready.\n",
              "        channel.send({})\n",
              "        if (message.buffers) {\n",
              "          for (const buffer of message.buffers) {\n",
              "            buffers.push(buffer);\n",
              "            downloaded += buffer.byteLength;\n",
              "            progress.value = downloaded;\n",
              "          }\n",
              "        }\n",
              "      }\n",
              "      const blob = new Blob(buffers, {type: 'application/binary'});\n",
              "      const a = document.createElement('a');\n",
              "      a.href = window.URL.createObjectURL(blob);\n",
              "      a.download = filename;\n",
              "      div.appendChild(a);\n",
              "      a.click();\n",
              "      div.remove();\n",
              "    }\n",
              "  "
            ]
          },
          "metadata": {}
        },
        {
          "output_type": "display_data",
          "data": {
            "text/plain": [
              "<IPython.core.display.Javascript object>"
            ],
            "application/javascript": [
              "download(\"download_b0f4e1ca-6724-452f-8a8b-af0a42ba1f46\", \"\\uc544\\ud504\\ub9ac\\uce7424\\uac1c\\uad6d_\\ud658\\uacbd\\uac00\\uce58\\uc9c0\\uc218_PCA.csv\", 707)"
            ]
          },
          "metadata": {}
        }
      ]
    },
    {
      "cell_type": "code",
      "source": [
        "weights_df2.to_csv('환경가치지수_세부지표별_PCA가중치.csv', index=False)\n",
        "\n",
        "from google.colab import files\n",
        "files.download('환경가치지수_세부지표별_PCA가중치.csv')\n"
      ],
      "metadata": {
        "colab": {
          "base_uri": "https://localhost:8080/",
          "height": 17
        },
        "id": "SRTwsCesX8WR",
        "outputId": "da0c3ebc-5055-43df-c9f3-9691d5041d6a"
      },
      "execution_count": 19,
      "outputs": [
        {
          "output_type": "display_data",
          "data": {
            "text/plain": [
              "<IPython.core.display.Javascript object>"
            ],
            "application/javascript": [
              "\n",
              "    async function download(id, filename, size) {\n",
              "      if (!google.colab.kernel.accessAllowed) {\n",
              "        return;\n",
              "      }\n",
              "      const div = document.createElement('div');\n",
              "      const label = document.createElement('label');\n",
              "      label.textContent = `Downloading \"${filename}\": `;\n",
              "      div.appendChild(label);\n",
              "      const progress = document.createElement('progress');\n",
              "      progress.max = size;\n",
              "      div.appendChild(progress);\n",
              "      document.body.appendChild(div);\n",
              "\n",
              "      const buffers = [];\n",
              "      let downloaded = 0;\n",
              "\n",
              "      const channel = await google.colab.kernel.comms.open(id);\n",
              "      // Send a message to notify the kernel that we're ready.\n",
              "      channel.send({})\n",
              "\n",
              "      for await (const message of channel.messages) {\n",
              "        // Send a message to notify the kernel that we're ready.\n",
              "        channel.send({})\n",
              "        if (message.buffers) {\n",
              "          for (const buffer of message.buffers) {\n",
              "            buffers.push(buffer);\n",
              "            downloaded += buffer.byteLength;\n",
              "            progress.value = downloaded;\n",
              "          }\n",
              "        }\n",
              "      }\n",
              "      const blob = new Blob(buffers, {type: 'application/binary'});\n",
              "      const a = document.createElement('a');\n",
              "      a.href = window.URL.createObjectURL(blob);\n",
              "      a.download = filename;\n",
              "      div.appendChild(a);\n",
              "      a.click();\n",
              "      div.remove();\n",
              "    }\n",
              "  "
            ]
          },
          "metadata": {}
        },
        {
          "output_type": "display_data",
          "data": {
            "text/plain": [
              "<IPython.core.display.Javascript object>"
            ],
            "application/javascript": [
              "download(\"download_ea934d01-e915-4199-ba65-9f15918f439c\", \"\\ud658\\uacbd\\uac00\\uce58\\uc9c0\\uc218_\\uc138\\ubd80\\uc9c0\\ud45c\\ubcc4_PCA\\uac00\\uc911\\uce58.csv\", 273)"
            ]
          },
          "metadata": {}
        }
      ]
    },
    {
      "cell_type": "code",
      "source": [
        "env_index.to_csv('환경가치지수_세부지표별_PCA가중치.csv', index=False, encoding='utf-8-sig')"
      ],
      "metadata": {
        "id": "e_4PfvLxYIRD"
      },
      "execution_count": 20,
      "outputs": []
    },
    {
      "cell_type": "code",
      "source": [
        "weights_df2.to_csv('환경가치지수_세부지표별_PCA가중치.csv', index=False)\n",
        "\n",
        "from google.colab import files\n",
        "files.download('환경가치지수_세부지표별_PCA가중치.csv')\n"
      ],
      "metadata": {
        "colab": {
          "base_uri": "https://localhost:8080/",
          "height": 17
        },
        "id": "_kCU_YPlYQnL",
        "outputId": "2e638bec-0008-4f95-db2a-64b8f4db439a"
      },
      "execution_count": 21,
      "outputs": [
        {
          "output_type": "display_data",
          "data": {
            "text/plain": [
              "<IPython.core.display.Javascript object>"
            ],
            "application/javascript": [
              "\n",
              "    async function download(id, filename, size) {\n",
              "      if (!google.colab.kernel.accessAllowed) {\n",
              "        return;\n",
              "      }\n",
              "      const div = document.createElement('div');\n",
              "      const label = document.createElement('label');\n",
              "      label.textContent = `Downloading \"${filename}\": `;\n",
              "      div.appendChild(label);\n",
              "      const progress = document.createElement('progress');\n",
              "      progress.max = size;\n",
              "      div.appendChild(progress);\n",
              "      document.body.appendChild(div);\n",
              "\n",
              "      const buffers = [];\n",
              "      let downloaded = 0;\n",
              "\n",
              "      const channel = await google.colab.kernel.comms.open(id);\n",
              "      // Send a message to notify the kernel that we're ready.\n",
              "      channel.send({})\n",
              "\n",
              "      for await (const message of channel.messages) {\n",
              "        // Send a message to notify the kernel that we're ready.\n",
              "        channel.send({})\n",
              "        if (message.buffers) {\n",
              "          for (const buffer of message.buffers) {\n",
              "            buffers.push(buffer);\n",
              "            downloaded += buffer.byteLength;\n",
              "            progress.value = downloaded;\n",
              "          }\n",
              "        }\n",
              "      }\n",
              "      const blob = new Blob(buffers, {type: 'application/binary'});\n",
              "      const a = document.createElement('a');\n",
              "      a.href = window.URL.createObjectURL(blob);\n",
              "      a.download = filename;\n",
              "      div.appendChild(a);\n",
              "      a.click();\n",
              "      div.remove();\n",
              "    }\n",
              "  "
            ]
          },
          "metadata": {}
        },
        {
          "output_type": "display_data",
          "data": {
            "text/plain": [
              "<IPython.core.display.Javascript object>"
            ],
            "application/javascript": [
              "download(\"download_f56d3759-1444-4558-8c41-2383ce32827a\", \"\\ud658\\uacbd\\uac00\\uce58\\uc9c0\\uc218_\\uc138\\ubd80\\uc9c0\\ud45c\\ubcc4_PCA\\uac00\\uc911\\uce58.csv\", 273)"
            ]
          },
          "metadata": {}
        }
      ]
    },
    {
      "cell_type": "code",
      "source": [
        "weights_df2.to_csv('환경가치지수_세부지표별_PCA가중치.csv', index=False, encoding='utf-8-sig')\n"
      ],
      "metadata": {
        "id": "v8mL86KrYhSR"
      },
      "execution_count": 22,
      "outputs": []
    },
    {
      "cell_type": "code",
      "source": [
        "from google.colab import files\n",
        "files.download('환경가치지수_세부지표별_PCA가중치.csv')\n"
      ],
      "metadata": {
        "colab": {
          "base_uri": "https://localhost:8080/",
          "height": 17
        },
        "id": "KeP41mmZYiww",
        "outputId": "d252bfe4-82cc-474e-8f97-fdba24816409"
      },
      "execution_count": 23,
      "outputs": [
        {
          "output_type": "display_data",
          "data": {
            "text/plain": [
              "<IPython.core.display.Javascript object>"
            ],
            "application/javascript": [
              "\n",
              "    async function download(id, filename, size) {\n",
              "      if (!google.colab.kernel.accessAllowed) {\n",
              "        return;\n",
              "      }\n",
              "      const div = document.createElement('div');\n",
              "      const label = document.createElement('label');\n",
              "      label.textContent = `Downloading \"${filename}\": `;\n",
              "      div.appendChild(label);\n",
              "      const progress = document.createElement('progress');\n",
              "      progress.max = size;\n",
              "      div.appendChild(progress);\n",
              "      document.body.appendChild(div);\n",
              "\n",
              "      const buffers = [];\n",
              "      let downloaded = 0;\n",
              "\n",
              "      const channel = await google.colab.kernel.comms.open(id);\n",
              "      // Send a message to notify the kernel that we're ready.\n",
              "      channel.send({})\n",
              "\n",
              "      for await (const message of channel.messages) {\n",
              "        // Send a message to notify the kernel that we're ready.\n",
              "        channel.send({})\n",
              "        if (message.buffers) {\n",
              "          for (const buffer of message.buffers) {\n",
              "            buffers.push(buffer);\n",
              "            downloaded += buffer.byteLength;\n",
              "            progress.value = downloaded;\n",
              "          }\n",
              "        }\n",
              "      }\n",
              "      const blob = new Blob(buffers, {type: 'application/binary'});\n",
              "      const a = document.createElement('a');\n",
              "      a.href = window.URL.createObjectURL(blob);\n",
              "      a.download = filename;\n",
              "      div.appendChild(a);\n",
              "      a.click();\n",
              "      div.remove();\n",
              "    }\n",
              "  "
            ]
          },
          "metadata": {}
        },
        {
          "output_type": "display_data",
          "data": {
            "text/plain": [
              "<IPython.core.display.Javascript object>"
            ],
            "application/javascript": [
              "download(\"download_b140e4b4-ebd4-4575-aace-8d390d51d531\", \"\\ud658\\uacbd\\uac00\\uce58\\uc9c0\\uc218_\\uc138\\ubd80\\uc9c0\\ud45c\\ubcc4_PCA\\uac00\\uc911\\uce58.csv\", 276)"
            ]
          },
          "metadata": {}
        }
      ]
    }
  ]
}